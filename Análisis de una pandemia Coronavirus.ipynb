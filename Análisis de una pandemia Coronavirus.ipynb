{
 "cells": [
  {
   "cell_type": "markdown",
   "metadata": {},
   "source": [
    "# **Análisis de una pandemia: Coronavirus**\n",
    "\n",
    "\n",
    "\n",
    "> Juan José Arango Serrano - 2161069\n",
    "\n",
    ">Omar Sánchez Arciniegas - 2161636\n",
    "\n",
    ">Andrés Felipe Gómez Ortiz - 2161073"
   ]
  },
  {
   "cell_type": "markdown",
   "metadata": {},
   "source": [
    ">De la Organización Mundial de la Salud: el 31 de diciembre de 2019, la OMS recibió una alerta sobre varios casos de neumonía en la ciudad de Wuhan, provincia de Hubei en China. El virus no coincidía con ningún otro virus conocido. Esto generó preocupación porque cuando un virus es nuevo, no sabemos cómo afecta a las personas.\n",
    "\n",
    ">El nuevo coronavirus también conocido como Covid-19 o SARS-CoV-2 ha afectado a cientos de países en todo el mundo, contagiando a cientos de miles a un ritmo muy rápido y dejando a miles de fallecidos.\n",
    "\n",
    ">La pandemia ha paralizado al mundo y al menos más de la mitad de la población mundial se encuentra confinada dentro de sus casas."
   ]
  },
  {
   "cell_type": "markdown",
   "metadata": {},
   "source": [
    "## **Objetivos:**\n",
    "\n",
    "\n",
    "*   Análisis del comportamiento del virus, comparando distintas zonas infectadas.\n",
    "*   Pronóstico del esparcimiento del virus alrededor del globo.\n",
    "*   Observación del impacto a nivel mundial. \n",
    "  \n"
   ]
  },
  {
   "cell_type": "code",
   "execution_count": 41,
   "metadata": {},
   "outputs": [],
   "source": [
    "import pandas as pd\n",
    "import numpy as np\n",
    "import seaborn as sns\n",
    "import matplotlib.pyplot as  plt\n",
    "from fbprophet import Prophet"
   ]
  },
  {
   "cell_type": "markdown",
   "metadata": {},
   "source": [
    "### Lectura del dataset\n",
    "\n",
    "* El dataset *covid_19_data.csv* \n",
    "\n",
    "    corresponde a todos los reportes de coronavirus que hubo por cada día desde el comienzo de los reportes (22 de Enero de 2020) hasta el día actual, teniendo así que por cada día podemos tener distintos países o regiones que reportan los nuevos casos de **Confirmados, Muertos y Curados**\n",
    "    \n",
    "    Estos informes contienen la cantidad total de casos que se han tenido hasta la fecha dada, teniendo así un comportamiento acumulado"
   ]
  },
  {
   "cell_type": "code",
   "execution_count": 2,
   "metadata": {},
   "outputs": [],
   "source": [
    "df = pd.read_csv('covid_19_data.csv',parse_dates=['ObservationDate'])\n",
    "df.rename(columns={'ObservationDate':'Fecha', 'Country/Region':'Pais','Deaths':'Muertos','Confirmed':'Confirmados','Recovered':'Recuperados'}, inplace=True)\n",
    "\n",
    "df = df[df.Confirmados>0] # Sólo quedan los registros que tengan al menos un caso confirmado\n",
    "df = df.drop(['SNo', 'Last Update'], axis=1) # Eliminamos la columna SNo y Last Update, pues no nos servirán de nada"
   ]
  },
  {
   "cell_type": "code",
   "execution_count": 3,
   "metadata": {},
   "outputs": [
    {
     "data": {
      "text/html": [
       "<div>\n",
       "<style scoped>\n",
       "    .dataframe tbody tr th:only-of-type {\n",
       "        vertical-align: middle;\n",
       "    }\n",
       "\n",
       "    .dataframe tbody tr th {\n",
       "        vertical-align: top;\n",
       "    }\n",
       "\n",
       "    .dataframe thead th {\n",
       "        text-align: right;\n",
       "    }\n",
       "</style>\n",
       "<table border=\"1\" class=\"dataframe\">\n",
       "  <thead>\n",
       "    <tr style=\"text-align: right;\">\n",
       "      <th></th>\n",
       "      <th>Fecha</th>\n",
       "      <th>Province/State</th>\n",
       "      <th>Pais</th>\n",
       "      <th>Confirmados</th>\n",
       "      <th>Muertos</th>\n",
       "      <th>Recuperados</th>\n",
       "    </tr>\n",
       "  </thead>\n",
       "  <tbody>\n",
       "    <tr>\n",
       "      <th>0</th>\n",
       "      <td>2020-01-22</td>\n",
       "      <td>Anhui</td>\n",
       "      <td>Mainland China</td>\n",
       "      <td>1.0</td>\n",
       "      <td>0.0</td>\n",
       "      <td>0.0</td>\n",
       "    </tr>\n",
       "    <tr>\n",
       "      <th>1</th>\n",
       "      <td>2020-01-22</td>\n",
       "      <td>Beijing</td>\n",
       "      <td>Mainland China</td>\n",
       "      <td>14.0</td>\n",
       "      <td>0.0</td>\n",
       "      <td>0.0</td>\n",
       "    </tr>\n",
       "    <tr>\n",
       "      <th>2</th>\n",
       "      <td>2020-01-22</td>\n",
       "      <td>Chongqing</td>\n",
       "      <td>Mainland China</td>\n",
       "      <td>6.0</td>\n",
       "      <td>0.0</td>\n",
       "      <td>0.0</td>\n",
       "    </tr>\n",
       "    <tr>\n",
       "      <th>3</th>\n",
       "      <td>2020-01-22</td>\n",
       "      <td>Fujian</td>\n",
       "      <td>Mainland China</td>\n",
       "      <td>1.0</td>\n",
       "      <td>0.0</td>\n",
       "      <td>0.0</td>\n",
       "    </tr>\n",
       "    <tr>\n",
       "      <th>5</th>\n",
       "      <td>2020-01-22</td>\n",
       "      <td>Guangdong</td>\n",
       "      <td>Mainland China</td>\n",
       "      <td>26.0</td>\n",
       "      <td>0.0</td>\n",
       "      <td>0.0</td>\n",
       "    </tr>\n",
       "  </tbody>\n",
       "</table>\n",
       "</div>"
      ],
      "text/plain": [
       "       Fecha Province/State            Pais  Confirmados  Muertos  Recuperados\n",
       "0 2020-01-22          Anhui  Mainland China          1.0      0.0          0.0\n",
       "1 2020-01-22        Beijing  Mainland China         14.0      0.0          0.0\n",
       "2 2020-01-22      Chongqing  Mainland China          6.0      0.0          0.0\n",
       "3 2020-01-22         Fujian  Mainland China          1.0      0.0          0.0\n",
       "5 2020-01-22      Guangdong  Mainland China         26.0      0.0          0.0"
      ]
     },
     "execution_count": 3,
     "metadata": {},
     "output_type": "execute_result"
    }
   ],
   "source": [
    "df.head()"
   ]
  },
  {
   "cell_type": "markdown",
   "metadata": {},
   "source": [
    "# Preprocesamiento"
   ]
  },
  {
   "cell_type": "markdown",
   "metadata": {},
   "source": [
    "Cuando usamos la agrupación (GroupBy) tendremos el problema que el dataset se organiza como si los índices\n",
    "fueran los datos agrupados, en este caso ***Fecha, País y Provincia/Estado*** serían los índices, cosa que no es correcta.\n",
    "\n",
    "Para corregir este error, y que nos siga apareciendo el index tal cual se maneja (conteo de números naturales) se usa la herramienta de pandas *reset_index* y así todo vuelve a la normalidad."
   ]
  },
  {
   "cell_type": "code",
   "execution_count": 4,
   "metadata": {},
   "outputs": [],
   "source": [
    "df2 = df.groupby([\"Fecha\", \"Pais\", \"Province/State\"])[['Fecha', 'Province/State', 'Pais', \n",
    "                                                       'Confirmados', 'Muertos', 'Recuperados']].sum().reset_index()"
   ]
  },
  {
   "cell_type": "markdown",
   "metadata": {},
   "source": [
    "Aquí están los registros de confirmados, muertos y curados que se tienen cada nuevo día"
   ]
  },
  {
   "cell_type": "code",
   "execution_count": 5,
   "metadata": {},
   "outputs": [
    {
     "data": {
      "text/html": [
       "<div>\n",
       "<style scoped>\n",
       "    .dataframe tbody tr th:only-of-type {\n",
       "        vertical-align: middle;\n",
       "    }\n",
       "\n",
       "    .dataframe tbody tr th {\n",
       "        vertical-align: top;\n",
       "    }\n",
       "\n",
       "    .dataframe thead th {\n",
       "        text-align: right;\n",
       "    }\n",
       "</style>\n",
       "<table border=\"1\" class=\"dataframe\">\n",
       "  <thead>\n",
       "    <tr style=\"text-align: right;\">\n",
       "      <th></th>\n",
       "      <th>Fecha</th>\n",
       "      <th>Pais</th>\n",
       "      <th>Province/State</th>\n",
       "      <th>Confirmados</th>\n",
       "      <th>Muertos</th>\n",
       "      <th>Recuperados</th>\n",
       "    </tr>\n",
       "  </thead>\n",
       "  <tbody>\n",
       "    <tr>\n",
       "      <th>0</th>\n",
       "      <td>2020-01-22</td>\n",
       "      <td>Macau</td>\n",
       "      <td>Macau</td>\n",
       "      <td>1.0</td>\n",
       "      <td>0.0</td>\n",
       "      <td>0.0</td>\n",
       "    </tr>\n",
       "    <tr>\n",
       "      <th>1</th>\n",
       "      <td>2020-01-22</td>\n",
       "      <td>Mainland China</td>\n",
       "      <td>Anhui</td>\n",
       "      <td>1.0</td>\n",
       "      <td>0.0</td>\n",
       "      <td>0.0</td>\n",
       "    </tr>\n",
       "    <tr>\n",
       "      <th>2</th>\n",
       "      <td>2020-01-22</td>\n",
       "      <td>Mainland China</td>\n",
       "      <td>Beijing</td>\n",
       "      <td>14.0</td>\n",
       "      <td>0.0</td>\n",
       "      <td>0.0</td>\n",
       "    </tr>\n",
       "    <tr>\n",
       "      <th>3</th>\n",
       "      <td>2020-01-22</td>\n",
       "      <td>Mainland China</td>\n",
       "      <td>Chongqing</td>\n",
       "      <td>6.0</td>\n",
       "      <td>0.0</td>\n",
       "      <td>0.0</td>\n",
       "    </tr>\n",
       "    <tr>\n",
       "      <th>4</th>\n",
       "      <td>2020-01-22</td>\n",
       "      <td>Mainland China</td>\n",
       "      <td>Fujian</td>\n",
       "      <td>1.0</td>\n",
       "      <td>0.0</td>\n",
       "      <td>0.0</td>\n",
       "    </tr>\n",
       "  </tbody>\n",
       "</table>\n",
       "</div>"
      ],
      "text/plain": [
       "       Fecha            Pais Province/State  Confirmados  Muertos  Recuperados\n",
       "0 2020-01-22           Macau          Macau          1.0      0.0          0.0\n",
       "1 2020-01-22  Mainland China          Anhui          1.0      0.0          0.0\n",
       "2 2020-01-22  Mainland China        Beijing         14.0      0.0          0.0\n",
       "3 2020-01-22  Mainland China      Chongqing          6.0      0.0          0.0\n",
       "4 2020-01-22  Mainland China         Fujian          1.0      0.0          0.0"
      ]
     },
     "execution_count": 5,
     "metadata": {},
     "output_type": "execute_result"
    }
   ],
   "source": [
    "df2.head()"
   ]
  },
  {
   "cell_type": "markdown",
   "metadata": {},
   "source": [
    "Aquí estan todos los registros totales al rededor del mundo de confirmados, muertos y curados hasta la fecha dada"
   ]
  },
  {
   "cell_type": "code",
   "execution_count": 6,
   "metadata": {},
   "outputs": [
    {
     "data": {
      "text/html": [
       "<div>\n",
       "<style scoped>\n",
       "    .dataframe tbody tr th:only-of-type {\n",
       "        vertical-align: middle;\n",
       "    }\n",
       "\n",
       "    .dataframe tbody tr th {\n",
       "        vertical-align: top;\n",
       "    }\n",
       "\n",
       "    .dataframe thead th {\n",
       "        text-align: right;\n",
       "    }\n",
       "</style>\n",
       "<table border=\"1\" class=\"dataframe\">\n",
       "  <thead>\n",
       "    <tr style=\"text-align: right;\">\n",
       "      <th></th>\n",
       "      <th>Confirmados</th>\n",
       "      <th>Muertos</th>\n",
       "      <th>Recuperados</th>\n",
       "    </tr>\n",
       "    <tr>\n",
       "      <th>Fecha</th>\n",
       "      <th></th>\n",
       "      <th></th>\n",
       "      <th></th>\n",
       "    </tr>\n",
       "  </thead>\n",
       "  <tbody>\n",
       "    <tr>\n",
       "      <th>2020-01-22</th>\n",
       "      <td>555.0</td>\n",
       "      <td>17.0</td>\n",
       "      <td>28.0</td>\n",
       "    </tr>\n",
       "    <tr>\n",
       "      <th>2020-01-23</th>\n",
       "      <td>653.0</td>\n",
       "      <td>18.0</td>\n",
       "      <td>30.0</td>\n",
       "    </tr>\n",
       "    <tr>\n",
       "      <th>2020-01-24</th>\n",
       "      <td>941.0</td>\n",
       "      <td>26.0</td>\n",
       "      <td>36.0</td>\n",
       "    </tr>\n",
       "    <tr>\n",
       "      <th>2020-01-25</th>\n",
       "      <td>1438.0</td>\n",
       "      <td>42.0</td>\n",
       "      <td>39.0</td>\n",
       "    </tr>\n",
       "    <tr>\n",
       "      <th>2020-01-26</th>\n",
       "      <td>2118.0</td>\n",
       "      <td>56.0</td>\n",
       "      <td>52.0</td>\n",
       "    </tr>\n",
       "  </tbody>\n",
       "</table>\n",
       "</div>"
      ],
      "text/plain": [
       "            Confirmados  Muertos  Recuperados\n",
       "Fecha                                        \n",
       "2020-01-22        555.0     17.0         28.0\n",
       "2020-01-23        653.0     18.0         30.0\n",
       "2020-01-24        941.0     26.0         36.0\n",
       "2020-01-25       1438.0     42.0         39.0\n",
       "2020-01-26       2118.0     56.0         52.0"
      ]
     },
     "execution_count": 6,
     "metadata": {},
     "output_type": "execute_result"
    }
   ],
   "source": [
    "df.groupby('Fecha').sum().head()"
   ]
  },
  {
   "cell_type": "markdown",
   "metadata": {},
   "source": [
    "### Reporte total de ***Muertos, Confirmados y Recuperados*** en cada **País** por fecha\n"
   ]
  },
  {
   "cell_type": "code",
   "execution_count": 7,
   "metadata": {},
   "outputs": [
    {
     "data": {
      "text/html": [
       "<div>\n",
       "<style scoped>\n",
       "    .dataframe tbody tr th:only-of-type {\n",
       "        vertical-align: middle;\n",
       "    }\n",
       "\n",
       "    .dataframe tbody tr th {\n",
       "        vertical-align: top;\n",
       "    }\n",
       "\n",
       "    .dataframe thead th {\n",
       "        text-align: right;\n",
       "    }\n",
       "</style>\n",
       "<table border=\"1\" class=\"dataframe\">\n",
       "  <thead>\n",
       "    <tr style=\"text-align: right;\">\n",
       "      <th></th>\n",
       "      <th>Fecha</th>\n",
       "      <th>Pais</th>\n",
       "      <th>Confirmados</th>\n",
       "      <th>Muertos</th>\n",
       "      <th>Recuperados</th>\n",
       "    </tr>\n",
       "  </thead>\n",
       "  <tbody>\n",
       "    <tr>\n",
       "      <th>0</th>\n",
       "      <td>2020-01-22</td>\n",
       "      <td>Macau</td>\n",
       "      <td>1.0</td>\n",
       "      <td>0.0</td>\n",
       "      <td>0.0</td>\n",
       "    </tr>\n",
       "    <tr>\n",
       "      <th>1</th>\n",
       "      <td>2020-01-22</td>\n",
       "      <td>Mainland China</td>\n",
       "      <td>547.0</td>\n",
       "      <td>17.0</td>\n",
       "      <td>28.0</td>\n",
       "    </tr>\n",
       "    <tr>\n",
       "      <th>2</th>\n",
       "      <td>2020-01-22</td>\n",
       "      <td>Taiwan</td>\n",
       "      <td>1.0</td>\n",
       "      <td>0.0</td>\n",
       "      <td>0.0</td>\n",
       "    </tr>\n",
       "    <tr>\n",
       "      <th>3</th>\n",
       "      <td>2020-01-22</td>\n",
       "      <td>US</td>\n",
       "      <td>1.0</td>\n",
       "      <td>0.0</td>\n",
       "      <td>0.0</td>\n",
       "    </tr>\n",
       "    <tr>\n",
       "      <th>4</th>\n",
       "      <td>2020-01-23</td>\n",
       "      <td>Hong Kong</td>\n",
       "      <td>2.0</td>\n",
       "      <td>0.0</td>\n",
       "      <td>0.0</td>\n",
       "    </tr>\n",
       "  </tbody>\n",
       "</table>\n",
       "</div>"
      ],
      "text/plain": [
       "       Fecha            Pais  Confirmados  Muertos  Recuperados\n",
       "0 2020-01-22           Macau          1.0      0.0          0.0\n",
       "1 2020-01-22  Mainland China        547.0     17.0         28.0\n",
       "2 2020-01-22          Taiwan          1.0      0.0          0.0\n",
       "3 2020-01-22              US          1.0      0.0          0.0\n",
       "4 2020-01-23       Hong Kong          2.0      0.0          0.0"
      ]
     },
     "execution_count": 7,
     "metadata": {},
     "output_type": "execute_result"
    }
   ],
   "source": [
    "df2.groupby([\"Fecha\",\"Pais\"])[['Confirmados', 'Muertos', 'Recuperados']].sum().reset_index().head()"
   ]
  },
  {
   "cell_type": "markdown",
   "metadata": {},
   "source": [
    "### Reporte de ***Muertos, Confirmados y Recuperados*** en **China** por fecha"
   ]
  },
  {
   "cell_type": "code",
   "execution_count": 8,
   "metadata": {},
   "outputs": [
    {
     "data": {
      "text/html": [
       "<div>\n",
       "<style scoped>\n",
       "    .dataframe tbody tr th:only-of-type {\n",
       "        vertical-align: middle;\n",
       "    }\n",
       "\n",
       "    .dataframe tbody tr th {\n",
       "        vertical-align: top;\n",
       "    }\n",
       "\n",
       "    .dataframe thead th {\n",
       "        text-align: right;\n",
       "    }\n",
       "</style>\n",
       "<table border=\"1\" class=\"dataframe\">\n",
       "  <thead>\n",
       "    <tr style=\"text-align: right;\">\n",
       "      <th></th>\n",
       "      <th>Fecha</th>\n",
       "      <th>Confirmados</th>\n",
       "      <th>Muertos</th>\n",
       "      <th>Recuperados</th>\n",
       "    </tr>\n",
       "  </thead>\n",
       "  <tbody>\n",
       "    <tr>\n",
       "      <th>0</th>\n",
       "      <td>2020-01-22</td>\n",
       "      <td>547.0</td>\n",
       "      <td>17.0</td>\n",
       "      <td>28.0</td>\n",
       "    </tr>\n",
       "    <tr>\n",
       "      <th>1</th>\n",
       "      <td>2020-01-23</td>\n",
       "      <td>639.0</td>\n",
       "      <td>18.0</td>\n",
       "      <td>30.0</td>\n",
       "    </tr>\n",
       "    <tr>\n",
       "      <th>2</th>\n",
       "      <td>2020-01-24</td>\n",
       "      <td>916.0</td>\n",
       "      <td>26.0</td>\n",
       "      <td>36.0</td>\n",
       "    </tr>\n",
       "    <tr>\n",
       "      <th>3</th>\n",
       "      <td>2020-01-25</td>\n",
       "      <td>1399.0</td>\n",
       "      <td>42.0</td>\n",
       "      <td>39.0</td>\n",
       "    </tr>\n",
       "    <tr>\n",
       "      <th>4</th>\n",
       "      <td>2020-01-26</td>\n",
       "      <td>2062.0</td>\n",
       "      <td>56.0</td>\n",
       "      <td>49.0</td>\n",
       "    </tr>\n",
       "  </tbody>\n",
       "</table>\n",
       "</div>"
      ],
      "text/plain": [
       "       Fecha  Confirmados  Muertos  Recuperados\n",
       "0 2020-01-22        547.0     17.0         28.0\n",
       "1 2020-01-23        639.0     18.0         30.0\n",
       "2 2020-01-24        916.0     26.0         36.0\n",
       "3 2020-01-25       1399.0     42.0         39.0\n",
       "4 2020-01-26       2062.0     56.0         49.0"
      ]
     },
     "execution_count": 8,
     "metadata": {},
     "output_type": "execute_result"
    }
   ],
   "source": [
    "df.query('Pais==\"Mainland China\"').groupby(\"Fecha\")[['Confirmados', 'Muertos', 'Recuperados','Province/State']].sum().reset_index().head()"
   ]
  },
  {
   "cell_type": "markdown",
   "metadata": {},
   "source": [
    "### Reporte de ***Muertos, Confirmados y Recuperados*** totales en cada país"
   ]
  },
  {
   "cell_type": "code",
   "execution_count": 37,
   "metadata": {},
   "outputs": [
    {
     "data": {
      "text/html": [
       "<div>\n",
       "<style scoped>\n",
       "    .dataframe tbody tr th:only-of-type {\n",
       "        vertical-align: middle;\n",
       "    }\n",
       "\n",
       "    .dataframe tbody tr th {\n",
       "        vertical-align: top;\n",
       "    }\n",
       "\n",
       "    .dataframe thead th {\n",
       "        text-align: right;\n",
       "    }\n",
       "</style>\n",
       "<table border=\"1\" class=\"dataframe\">\n",
       "  <thead>\n",
       "    <tr style=\"text-align: right;\">\n",
       "      <th></th>\n",
       "      <th>Pais</th>\n",
       "      <th>Confirmados</th>\n",
       "      <th>Muertos</th>\n",
       "      <th>Recuperados</th>\n",
       "    </tr>\n",
       "  </thead>\n",
       "  <tbody>\n",
       "    <tr>\n",
       "      <th>0</th>\n",
       "      <td>Afghanistan</td>\n",
       "      <td>120.0</td>\n",
       "      <td>4.0</td>\n",
       "      <td>2.0</td>\n",
       "    </tr>\n",
       "    <tr>\n",
       "      <th>1</th>\n",
       "      <td>Albania</td>\n",
       "      <td>212.0</td>\n",
       "      <td>10.0</td>\n",
       "      <td>33.0</td>\n",
       "    </tr>\n",
       "    <tr>\n",
       "      <th>2</th>\n",
       "      <td>Algeria</td>\n",
       "      <td>511.0</td>\n",
       "      <td>31.0</td>\n",
       "      <td>31.0</td>\n",
       "    </tr>\n",
       "    <tr>\n",
       "      <th>3</th>\n",
       "      <td>Andorra</td>\n",
       "      <td>334.0</td>\n",
       "      <td>6.0</td>\n",
       "      <td>1.0</td>\n",
       "    </tr>\n",
       "    <tr>\n",
       "      <th>4</th>\n",
       "      <td>Angola</td>\n",
       "      <td>7.0</td>\n",
       "      <td>2.0</td>\n",
       "      <td>0.0</td>\n",
       "    </tr>\n",
       "  </tbody>\n",
       "</table>\n",
       "</div>"
      ],
      "text/plain": [
       "          Pais  Confirmados  Muertos  Recuperados\n",
       "0  Afghanistan        120.0      4.0          2.0\n",
       "1      Albania        212.0     10.0         33.0\n",
       "2      Algeria        511.0     31.0         31.0\n",
       "3      Andorra        334.0      6.0          1.0\n",
       "4       Angola          7.0      2.0          0.0"
      ]
     },
     "execution_count": 37,
     "metadata": {},
     "output_type": "execute_result"
    }
   ],
   "source": [
    "#Se toma la fecha máxima, pues el la última o\n",
    "#la más actualizada y esta reune el número de casos totales\n",
    "\n",
    "Reporte_Total = df[df.Fecha == df.Fecha.max()] \n",
    "Reporte_Total.groupby(['Pais']).sum().reset_index().head()"
   ]
  },
  {
   "cell_type": "markdown",
   "metadata": {},
   "source": [
    "# Situación actual de cada país y del mundo entero"
   ]
  },
  {
   "cell_type": "markdown",
   "metadata": {},
   "source": [
    "La idea principal es analizar el reporte y la situación que se tiene actualmente alrededor del mundo, siendo así, aquí podremos ver los casos totales de **Confirmados, Recuperados, Muertos y la Tasa de mortalidad ** que se tienen hasta la fecha, incluyendo una gráfica del comportamiento del Covid-19.\n",
    "\n",
    "La función ***Estado*** requiere como entrada el parámetro del lugar a analizar, ya sea el País o El mundo entero, para lo cual se ingresa el nombre del país (en inglés) que se quiere revisar o la palabra ***Mundo*** para observar la situación actual de todo el mundo."
   ]
  },
  {
   "cell_type": "code",
   "execution_count": 38,
   "metadata": {},
   "outputs": [
    {
     "name": "stdout",
     "output_type": "stream",
     "text": [
      "Total casos confirmados: 720117\n",
      "Total muertes: 33924\n",
      "Total recuperados: 145951\n",
      "Tasa de Mortalidad %: 4.711\n"
     ]
    },
    {
     "data": {
      "image/png": "[encoded data removed]",
      "text/plain": [
       "<Figure size 1152x432 with 1 Axes>"
      ]
     },
     "metadata": {},
     "output_type": "display_data"
    }
   ],
   "source": [
    "Estado('Mundo')"
   ]
  },
  {
   "cell_type": "markdown",
   "metadata": {},
   "source": [
    "# Comparación entre países"
   ]
  },
  {
   "cell_type": "markdown",
   "metadata": {},
   "source": [
    "Una manera importante de saber qué tanto ha afectado el Coronavirus a los países es hacer la comparación entre los países más afectados desde el primer día de su aparición. \n",
    "\n",
    "En este caso se analizará el comportamiento de los ***n*** primeros países con mayor cantidad de casos Confirmados, Muertos y Recuperados por el Covid-19.\n",
    "\n",
    "Para esto, la función *Grafica_Comparacion_Top* nos arrojará una gráfica del comportamiento de los casos que se deseen ser comparados y mostrados, siendo así, la función recibe los parámetros de la situación a analizar, ya sea **Confirmados, Muertos o Recuperados** y un número **n** de los n primeros países con mayor casos según la situación."
   ]
  },
  {
   "cell_type": "code",
   "execution_count": 39,
   "metadata": {},
   "outputs": [
    {
     "data": {
      "image/png": "[encoded data removed]",
      "text/plain": [
       "<Figure size 864x576 with 1 Axes>"
      ]
     },
     "metadata": {},
     "output_type": "display_data"
    }
   ],
   "source": [
    "Grafica_Comparacion_Top('Confirmados',10)"
   ]
  },
  {
   "cell_type": "markdown",
   "metadata": {},
   "source": [
    "# Predicción de los casos"
   ]
  },
  {
   "cell_type": "markdown",
   "metadata": {},
   "source": [
    "Una herramienta muy útil al momento de tomar una desición respecto al Coronavirus es su proyección en un futuro cercano. Este proyecto implementa la predicción de series de tiempo con la ayuda de **Prophet**, es un proyecto de código abierto desarrollado por Facebook con el fin de predecir series de tiempo. Las ventajas de Prophet son la predicción a un cierto periodo de tiempo con una presición muy adecuada, además de contar con un rápido entreno del modelo. \n",
    "\n",
    "La función *Prediccion_Casos* tiene como fin mostrar los datos proyectados a un futuro cercano, ya sea la predicción de los casos de **Confirmados, Muertos o Recuperados** en cierto país o el mundo entero.\n",
    "\n",
    "Los resultados obtenidos por la función serán una tabla que muestra a los próximos días los resultados predichos (yhat), incluyendo un mínimo (yhat_lower) y un máximo (yhat_upper) de valores proyectados, además de la representación gráfica del comportamiento que describe **Prophet** sobre los datos tenidos a través del tiempo y de cómo se mantendría a un futuro.\n",
    "\n"
   ]
  },
  {
   "cell_type": "code",
   "execution_count": 40,
   "metadata": {},
   "outputs": [
    {
     "data": {
      "text/html": [
       "<div>\n",
       "<style scoped>\n",
       "    .dataframe tbody tr th:only-of-type {\n",
       "        vertical-align: middle;\n",
       "    }\n",
       "\n",
       "    .dataframe tbody tr th {\n",
       "        vertical-align: top;\n",
       "    }\n",
       "\n",
       "    .dataframe thead th {\n",
       "        text-align: right;\n",
       "    }\n",
       "</style>\n",
       "<table border=\"1\" class=\"dataframe\">\n",
       "  <thead>\n",
       "    <tr style=\"text-align: right;\">\n",
       "      <th></th>\n",
       "      <th>ds</th>\n",
       "      <th>yhat</th>\n",
       "      <th>yhat_lower</th>\n",
       "      <th>yhat_upper</th>\n",
       "    </tr>\n",
       "  </thead>\n",
       "  <tbody>\n",
       "    <tr>\n",
       "      <th>57</th>\n",
       "      <td>2020-03-28</td>\n",
       "      <td>1258.103539</td>\n",
       "      <td>1242.916334</td>\n",
       "      <td>1273.197319</td>\n",
       "    </tr>\n",
       "    <tr>\n",
       "      <th>58</th>\n",
       "      <td>2020-03-29</td>\n",
       "      <td>1540.848504</td>\n",
       "      <td>1525.555410</td>\n",
       "      <td>1555.643748</td>\n",
       "    </tr>\n",
       "    <tr>\n",
       "      <th>59</th>\n",
       "      <td>2020-03-30</td>\n",
       "      <td>1887.907854</td>\n",
       "      <td>1873.950093</td>\n",
       "      <td>1902.769672</td>\n",
       "    </tr>\n",
       "    <tr>\n",
       "      <th>60</th>\n",
       "      <td>2020-03-31</td>\n",
       "      <td>2298.364950</td>\n",
       "      <td>2284.155556</td>\n",
       "      <td>2313.956410</td>\n",
       "    </tr>\n",
       "    <tr>\n",
       "      <th>61</th>\n",
       "      <td>2020-04-01</td>\n",
       "      <td>2802.608401</td>\n",
       "      <td>2788.018301</td>\n",
       "      <td>2816.981690</td>\n",
       "    </tr>\n",
       "  </tbody>\n",
       "</table>\n",
       "</div>"
      ],
      "text/plain": [
       "           ds         yhat   yhat_lower   yhat_upper\n",
       "57 2020-03-28  1258.103539  1242.916334  1273.197319\n",
       "58 2020-03-29  1540.848504  1525.555410  1555.643748\n",
       "59 2020-03-30  1887.907854  1873.950093  1902.769672\n",
       "60 2020-03-31  2298.364950  2284.155556  2313.956410\n",
       "61 2020-04-01  2802.608401  2788.018301  2816.981690"
      ]
     },
     "execution_count": 40,
     "metadata": {},
     "output_type": "execute_result"
    },
    {
     "data": {
      "image/png": "[encoded data removed]",
      "text/plain": [
       "<Figure size 720x432 with 1 Axes>"
      ]
     },
     "metadata": {},
     "output_type": "display_data"
    }
   ],
   "source": [
    "Prediccion_Casos(\"Confirmados\", 'Russia')"
   ]
  },
  {
   "cell_type": "markdown",
   "metadata": {},
   "source": [
    "# Funciones en concreto"
   ]
  },
  {
   "cell_type": "markdown",
   "metadata": {},
   "source": [
    "La función ***Estado*** dependiendo de la localización, ya sea el Mundo o un País en específico realiza cada uno cierta función con una ligera diferencia, facilmente reconocible en el código.\n",
    "\n",
    "En primer lugar, la función *Estado* toma la fecha actual o del último día que se tenga registro, teniendo así a todos los países mostrando los datos de cada situación, como lo son confirmados, muertos y recuperados al día actual, es decir, el acumulado que se tienen. Finalmente se realiza la suma total de estos según la situación y este cálculo es el valor que se imprime.\n",
    "\n",
    "Al final se incluye una gráfica que nos muestra la cantidad de datos recogidos por cada fecha, teniendo así la cantidad de datos por cada situación que muestra el crecimiento a través del tiempo"
   ]
  },
  {
   "cell_type": "code",
   "execution_count": 36,
   "metadata": {},
   "outputs": [],
   "source": [
    "def Estado(Lugar):\n",
    "    if(Lugar=='Mundo'):\n",
    "        actualizado = df[df.Fecha == df.Fecha.max()]\n",
    "        Total_Confirmados = np.sum(actualizado['Confirmados'])\n",
    "        Total_Recuperados = np.sum(actualizado['Recuperados'])\n",
    "        Total_Muertos = np.sum(actualizado['Muertos'])\n",
    "        Tasa_Mortalidad = np.sum(actualizado['Muertos'])/np.sum(actualizado['Confirmados'])*100    \n",
    "   \n",
    "        print ('Total casos confirmados: %.d' % Total_Confirmados)\n",
    "        print ('Total muertes: %.d' % Total_Muertos)\n",
    "        print ('Total recuperados: %.d' %  Total_Recuperados)\n",
    "        print ('Tasa de Mortalidad %%: %.3f' % Tasa_Mortalidad)\n",
    "        \n",
    "        Grafica_Mundo()\n",
    "        \n",
    "    elif((df['Pais'].unique())==(str(Lugar))).any():\n",
    "        Pais = df[df[\"Pais\"]==Lugar]\n",
    "        actualizado = Pais[Pais.Fecha == df.Fecha.max()]\n",
    "        Confirmados = np.sum(actualizado['Confirmados'])\n",
    "        Recuperados = np.sum(actualizado['Recuperados'])\n",
    "        Muertos = np.sum(actualizado['Muertos'])\n",
    "        Tasa_Mortalidad = np.sum(actualizado['Muertos'])/np.sum(actualizado['Confirmados'])*100\n",
    "        \n",
    "        print ('Total casos confirmados: %.d' % Confirmados)\n",
    "        print ('Total muertes: %.d' % Muertos)\n",
    "        print ('Total recuperados: %.d' %  Recuperados  )   \n",
    "        print ('Tasa de Mortalidad %%: %.3f' % Tasa_Mortalidad)\n",
    "        \n",
    "        \n",
    "        Graf_Lugar(Lugar)\n",
    "            \n",
    "    else:\n",
    "        print(\"El país ingresado no existe o no está registrado\")\n",
    "        \n",
    "\n",
    "def Graf_Lugar(Lugar):       \n",
    "    plt.figure(figsize=(16, 6))\n",
    "    plt.xticks(rotation=90)\n",
    "\n",
    "    Pais = df[df[\"Pais\"]==Lugar].groupby(\"Fecha\")[['Confirmados', 'Muertos', 'Recuperados']].sum().reset_index()\n",
    "\n",
    "    plt.fill_between(Pais[\"Fecha\"], Pais[\"Confirmados\"], color=\"lightgreen\", alpha=0.3)\n",
    "    plt.fill_between(Pais[\"Fecha\"], Pais[\"Muertos\"], color=\"darkred\", alpha=0.3)\n",
    "    plt.fill_between(Pais[\"Fecha\"], Pais[\"Recuperados\"], color=\"skyblue\", alpha=0.3)\n",
    "\n",
    "\n",
    "    plt.plot(\"Fecha\",\"Confirmados\", data=Pais, linestyle='-',label='Confirmados', marker='o',markerfacecolor='green', markersize=9, color='olive', linewidth=4)\n",
    "    plt.plot(\"Fecha\",\"Muertos\", data=Pais, linestyle='-', label='Muertos',marker='o',markerfacecolor='red', markersize=9, color='darkred', linewidth=4)\n",
    "    plt.plot(\"Fecha\",\"Recuperados\", data=Pais, linestyle='-',label='Recuperados', marker='o',markerfacecolor='blue', markersize=9, color='skyblue', linewidth=4)\n",
    "\n",
    "\n",
    "    plt.title('Estado del coronavirus en '+str(Lugar))\n",
    "    plt.xlabel('Fechas')\n",
    "    plt.ylabel('Número de Personas')\n",
    "    plt.legend(loc='best',fancybox=True,fontsize=15,framealpha=1, shadow=True, borderpad=1)\n",
    "\n",
    "    plt.show()\n",
    "\n",
    "\n",
    "def Grafica_Mundo():\n",
    "\n",
    "    Confirmados = df.groupby('Fecha').sum()['Confirmados'].reset_index()\n",
    "    Muertos = df.groupby('Fecha').sum()['Muertos'].reset_index()\n",
    "    Recuperados = df.groupby('Fecha').sum()['Recuperados'].reset_index()\n",
    "\n",
    "    plt.figure(figsize=(16, 6))\n",
    "    plt.xticks(rotation=90)\n",
    "\n",
    "    plt.fill_between(Confirmados[\"Fecha\"], Confirmados[\"Confirmados\"], color=\"lightgreen\", alpha=0.3)\n",
    "    plt.fill_between(Muertos[\"Fecha\"], Muertos[\"Muertos\"], color=\"darkred\", alpha=0.3)\n",
    "    plt.fill_between(Recuperados[\"Fecha\"], Recuperados[\"Recuperados\"], color=\"skyblue\", alpha=0.3)\n",
    "\n",
    "\n",
    "    plt.plot(\"Fecha\",\"Confirmados\", data=Confirmados, linestyle='-',label='Confirmados', marker='o',markerfacecolor='green', markersize=9, color='olive', linewidth=4)\n",
    "    plt.plot(\"Fecha\",\"Muertos\", data=Muertos, linestyle='-', label='Muertos',marker='o',markerfacecolor='red', markersize=9, color='darkred', linewidth=4)\n",
    "    plt.plot(\"Fecha\",\"Recuperados\", data=Recuperados, linestyle='-',label='Recuperados', marker='o',markerfacecolor='blue', markersize=9, color='skyblue', linewidth=4)\n",
    "\n",
    "\n",
    "    plt.title('Reporte a nivel mundial del Coronavirus')\n",
    "    plt.xlabel('Fechas')\n",
    "    plt.ylabel('Número de Personas')\n",
    "    plt.legend(loc='best',fancybox=True,fontsize=15, framealpha=1, shadow=True, borderpad=1)\n",
    "\n",
    "    plt.show()\n",
    "\n"
   ]
  },
  {
   "cell_type": "markdown",
   "metadata": {},
   "source": [
    "Prophet sigue el modelo API de sklearn al crear una instancia como entrenar y predecir valores futuros\n",
    "\n",
    "La predicción que realiza Prophet es muy precisa, pero requiere unas entradas muy específicas.\n",
    "\n",
    "* Requiere de dos columnas específicamente nombradas 'ds' y 'y', donde:    \n",
    "\n",
    "    - 'ds' es datestamp o la marca de tiempo que debe ser ingresada en el formato de datatime de pandas, como lo es YYYY-MM-DD or YYYY-MM-DD HH:MM:SS  \n",
    "    \n",
    "    - 'y' es la columna numérica que queremos predecir.\n",
    "\n",
    "Además, prophet cuenta con la gráfica donde muestra los datos a través del tiempo y el ajuste que realiza en descripción de este comportamiento \n",
    "    "
   ]
  },
  {
   "cell_type": "code",
   "execution_count": 35,
   "metadata": {},
   "outputs": [],
   "source": [
    "def Prediccion_Casos(Situacion, Lugar):\n",
    "    \n",
    "    if(Lugar=='Mundo'):\n",
    "        if(Situacion=='Confirmados'):\n",
    "            Confirmados = df.groupby('Fecha').sum()['Confirmados'].reset_index()\n",
    "            Confirmados.columns = ['ds','y']\n",
    "            return Pred(Confirmados)\n",
    "        \n",
    "        elif(Situacion=='Muertos'):\n",
    "            Muertos = df.groupby('Fecha').sum()['Muertos'].reset_index()\n",
    "            Muertos.columns = ['ds','y']\n",
    "            return Pred(Muertos)\n",
    "        \n",
    "        elif(Situacion=='Recuperados'):\n",
    "            Recuperados = df.groupby('Fecha').sum()['Recuperados'].reset_index()   \n",
    "            Recuperados.columns = ['ds','y']\n",
    "            return Pred(Recuperados)\n",
    "    \n",
    "    elif((df['Pais'].unique())==(str(Lugar))).any():        \n",
    "        Pais = df[df[\"Pais\"]==Lugar]\n",
    "        if((Situacion)=='Confirmados'):\n",
    "            Pais_Confirmados = Pais.groupby('Fecha').sum()['Confirmados'].reset_index()\n",
    "            Pais_Confirmados.columns = ['ds','y']\n",
    "            return Pred(Pais_Confirmados)\n",
    "        \n",
    "        elif((Situacion)=='Muertos'):\n",
    "            Pais_Muertos = Pais.groupby('Fecha').sum()['Muertos'].reset_index()\n",
    "            Pais_Muertos.columns = ['ds','y']\n",
    "            return Pred(Pais_Muertos)\n",
    "        \n",
    "        elif((Situacion)=='Recuperados'):\n",
    "            Pais_Recuperados = Pais.groupby('Fecha').sum()['Recuperados'].reset_index()\n",
    "            Pais_Recuperados.columns = ['ds','y']\n",
    "            return Pred(Pais_Recuperados)\n",
    "            \n",
    "    else:\n",
    "        print(\"El país ingresado no existe o no está registrado\")\n",
    "\n",
    "def Pred(Ubicacion):\n",
    "    Ubicacion.columns = ['ds','y']\n",
    "    P = Prophet(interval_width=0.95)\n",
    "    P.daily_seasonality=True\n",
    "    P.yearly_seasonality=True \n",
    "    P.fit(Ubicacion)\n",
    "    Futuro = P.make_future_dataframe(periods=3)\n",
    "    Prediccion = P.predict(Futuro)\n",
    "    P.plot(Prediccion)    \n",
    "    return Prediccion[['ds', 'yhat', 'yhat_lower', 'yhat_upper']].tail()\n",
    "\n"
   ]
  },
  {
   "cell_type": "markdown",
   "metadata": {},
   "source": [
    "La función *Grafica_Comparacion_Top* se encarga de poner en una misma gráfica el comportamiento de los primeros *n* países según la cantidad de casos que contengan para cada *Situacion*.\n",
    "\n",
    "En primer lugar, la función crea una copia del dataset original, y le agrega un par de columnas llamadas ***Primera_FechaxPais*** y ***Dias***, las cuales se llenan con la fecha en que se registró el primero caso de Covid-19 en cada país y calcula el número de de días que han transcurrido desde entonces.\n",
    "\n",
    "***Pais_Dias*** Organiza el dataset copiado con las nuevas columnas anteriormente mencionadas, y organiza de tal forma que cada país muestre la cantidad de Confirmados, Muertos y Recuperados que hubo cada día.\n",
    "\n",
    "Para crear el top *n* de casos para cada *Situacion*, la función organiza según la cantidad de casos que hayan para cada Situación y los guarda en una lista, teniendo así que ***Confirmados_Top*** lo conforman los *n* primeros países con más casos de confirmados.\n",
    "\n",
    "Finalmente para graficar estos n casos, se pasan a la función *Grafica* pasandole como parámetros la lista con los *n* primeros países, la situación y el *n*.\n",
    "\n",
    "La función *Grafica* recibe estos parámetros, y en ***Top_Paises*** guarda todos los paises que se encuentren en la lista ***Confirmados_Top*** y así procede a graficarlos todos juntos.\n",
    "\n"
   ]
  },
  {
   "cell_type": "code",
   "execution_count": 34,
   "metadata": {},
   "outputs": [],
   "source": [
    "def Grafica_Comparacion_Top(Situacion,n):\n",
    "    \n",
    "    \n",
    "    a=df.copy()\n",
    "    a['Primera_FechaxPais'] = a.groupby('Pais')['Fecha'].transform('min')\n",
    "    a['Dias'] = (a['Fecha'] - a['Primera_FechaxPais']).dt.days\n",
    "    \n",
    "    Ultima_Fecha = df[df.Fecha == df.Fecha.max()]\n",
    "    \n",
    "    Pais_Dias = a.groupby(['Pais','Dias'])[['Confirmados','Muertos','Recuperados']].sum().reset_index()\n",
    "    \n",
    "    \n",
    "    if(Situacion=='Confirmados'):\n",
    "        Confirmados_Top = Ultima_Fecha.sort_values('Confirmados', ascending=False).head(n)['Pais'].to_list()\n",
    "        Grafica(Confirmados_Top,Situacion,n,Pais_Dias)\n",
    "        \n",
    "    elif(Situacion=='Recuperados'):\n",
    "        Recuperados_Top= Ultima_Fecha.sort_values('Recuperados', ascending=False).head(n)['Pais'].to_list()\n",
    "        Grafica(Recuperados_Top,Situacion,n,Pais_Dias)\n",
    "        \n",
    "    elif(Situacion=='Muertos'):\n",
    "        Muertos_Top = Ultima_Fecha.sort_values('Muertos', ascending=False).head(n)['Pais'].to_list()\n",
    "        Grafica(Muertos_Top,Situacion,n,Pais_Dias)\n",
    "    \n",
    "def Grafica(Situacion_Top, Situacion,n,Pais_Dias):\n",
    "    Top_Paises = Pais_Dias[Pais_Dias.Pais.isin(Situacion_Top)]\n",
    "    plt.figure(figsize=(12,8))\n",
    "    sns.lineplot(x='Dias',y=Situacion, data=Top_Paises, hue='Pais', lw=2)\n",
    "    plt.legend(bbox_to_anchor=(1, 1), fontsize=15)\n",
    "    plt.grid(True)\n",
    "    plt.title('Comparación de los '+ str(n) + ' primeros paises con más casos de ' + str(Situacion))\n",
    "    plt.show()\n",
    "\n"
   ]
  }
 ],
 "metadata": {
  "kernelspec": {
   "display_name": "Python 3",
   "language": "python",
   "name": "python3"
  },
  "language_info": {
   "codemirror_mode": {
    "name": "ipython",
    "version": 3
   },
   "file_extension": ".py",
   "mimetype": "text/x-python",
   "name": "python",
   "nbconvert_exporter": "python",
   "pygments_lexer": "ipython3",
   "version": "3.6.9"
  }
 },
 "nbformat": 4,
 "nbformat_minor": 2
}
